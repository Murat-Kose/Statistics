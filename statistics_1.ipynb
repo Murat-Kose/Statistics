{
 "cells": [
  {
   "cell_type": "markdown",
   "id": "453aa6c3",
   "metadata": {},
   "source": [
    "# Inferential Statistics"
   ]
  },
  {
   "cell_type": "markdown",
   "id": "71e2a3c6",
   "metadata": {},
   "source": [
    "## Confidence Intervals Using the Normal Distribution & t Distribution"
   ]
  },
  {
   "cell_type": "code",
   "execution_count": 6,
   "id": "8f0afc27",
   "metadata": {
    "ExecuteTime": {
     "end_time": "2023-10-23T21:22:47.955601Z",
     "start_time": "2023-10-23T21:22:47.941166Z"
    }
   },
   "outputs": [],
   "source": [
    "import numpy as np\n",
    "from scipy import stats\n",
    "import matplotlib.pyplot as plt\n",
    "import seaborn as sns"
   ]
  },
  {
   "cell_type": "code",
   "execution_count": 7,
   "id": "a0db9263",
   "metadata": {
    "ExecuteTime": {
     "end_time": "2023-10-23T21:22:48.771994Z",
     "start_time": "2023-10-23T21:22:47.974468Z"
    }
   },
   "outputs": [
    {
     "data": {
      "text/plain": [
       "['anagrams',\n",
       " 'anscombe',\n",
       " 'attention',\n",
       " 'brain_networks',\n",
       " 'car_crashes',\n",
       " 'diamonds',\n",
       " 'dots',\n",
       " 'dowjones',\n",
       " 'exercise',\n",
       " 'flights',\n",
       " 'fmri',\n",
       " 'geyser',\n",
       " 'glue',\n",
       " 'healthexp',\n",
       " 'iris',\n",
       " 'mpg',\n",
       " 'penguins',\n",
       " 'planets',\n",
       " 'seaice',\n",
       " 'taxis',\n",
       " 'tips',\n",
       " 'titanic']"
      ]
     },
     "execution_count": 7,
     "metadata": {},
     "output_type": "execute_result"
    }
   ],
   "source": [
    "sns.get_dataset_names()"
   ]
  },
  {
   "cell_type": "code",
   "execution_count": 8,
   "id": "7a1c3a6e",
   "metadata": {
    "ExecuteTime": {
     "end_time": "2023-10-23T21:22:48.807430Z",
     "start_time": "2023-10-23T21:22:48.774065Z"
    }
   },
   "outputs": [],
   "source": [
    "tips = sns.load_dataset('tips')"
   ]
  },
  {
   "cell_type": "code",
   "execution_count": 9,
   "id": "e8c8ccc8",
   "metadata": {
    "ExecuteTime": {
     "end_time": "2023-10-23T21:22:48.871018Z",
     "start_time": "2023-10-23T21:22:48.813584Z"
    }
   },
   "outputs": [
    {
     "data": {
      "text/html": [
       "<div>\n",
       "<style scoped>\n",
       "    .dataframe tbody tr th:only-of-type {\n",
       "        vertical-align: middle;\n",
       "    }\n",
       "\n",
       "    .dataframe tbody tr th {\n",
       "        vertical-align: top;\n",
       "    }\n",
       "\n",
       "    .dataframe thead th {\n",
       "        text-align: right;\n",
       "    }\n",
       "</style>\n",
       "<table border=\"1\" class=\"dataframe\">\n",
       "  <thead>\n",
       "    <tr style=\"text-align: right;\">\n",
       "      <th></th>\n",
       "      <th>total_bill</th>\n",
       "      <th>tip</th>\n",
       "      <th>sex</th>\n",
       "      <th>smoker</th>\n",
       "      <th>day</th>\n",
       "      <th>time</th>\n",
       "      <th>size</th>\n",
       "    </tr>\n",
       "  </thead>\n",
       "  <tbody>\n",
       "    <tr>\n",
       "      <th>0</th>\n",
       "      <td>16.99</td>\n",
       "      <td>1.01</td>\n",
       "      <td>Female</td>\n",
       "      <td>No</td>\n",
       "      <td>Sun</td>\n",
       "      <td>Dinner</td>\n",
       "      <td>2</td>\n",
       "    </tr>\n",
       "    <tr>\n",
       "      <th>1</th>\n",
       "      <td>10.34</td>\n",
       "      <td>1.66</td>\n",
       "      <td>Male</td>\n",
       "      <td>No</td>\n",
       "      <td>Sun</td>\n",
       "      <td>Dinner</td>\n",
       "      <td>3</td>\n",
       "    </tr>\n",
       "    <tr>\n",
       "      <th>2</th>\n",
       "      <td>21.01</td>\n",
       "      <td>3.50</td>\n",
       "      <td>Male</td>\n",
       "      <td>No</td>\n",
       "      <td>Sun</td>\n",
       "      <td>Dinner</td>\n",
       "      <td>3</td>\n",
       "    </tr>\n",
       "    <tr>\n",
       "      <th>3</th>\n",
       "      <td>23.68</td>\n",
       "      <td>3.31</td>\n",
       "      <td>Male</td>\n",
       "      <td>No</td>\n",
       "      <td>Sun</td>\n",
       "      <td>Dinner</td>\n",
       "      <td>2</td>\n",
       "    </tr>\n",
       "    <tr>\n",
       "      <th>4</th>\n",
       "      <td>24.59</td>\n",
       "      <td>3.61</td>\n",
       "      <td>Female</td>\n",
       "      <td>No</td>\n",
       "      <td>Sun</td>\n",
       "      <td>Dinner</td>\n",
       "      <td>4</td>\n",
       "    </tr>\n",
       "  </tbody>\n",
       "</table>\n",
       "</div>"
      ],
      "text/plain": [
       "   total_bill   tip     sex smoker  day    time  size\n",
       "0       16.99  1.01  Female     No  Sun  Dinner     2\n",
       "1       10.34  1.66    Male     No  Sun  Dinner     3\n",
       "2       21.01  3.50    Male     No  Sun  Dinner     3\n",
       "3       23.68  3.31    Male     No  Sun  Dinner     2\n",
       "4       24.59  3.61  Female     No  Sun  Dinner     4"
      ]
     },
     "execution_count": 9,
     "metadata": {},
     "output_type": "execute_result"
    }
   ],
   "source": [
    "tips.head()"
   ]
  },
  {
   "cell_type": "code",
   "execution_count": 10,
   "id": "07f18da4",
   "metadata": {
    "ExecuteTime": {
     "end_time": "2023-10-23T21:22:48.903657Z",
     "start_time": "2023-10-23T21:22:48.879243Z"
    }
   },
   "outputs": [
    {
     "name": "stdout",
     "output_type": "stream",
     "text": [
      "<class 'pandas.core.frame.DataFrame'>\n",
      "RangeIndex: 244 entries, 0 to 243\n",
      "Data columns (total 7 columns):\n",
      " #   Column      Non-Null Count  Dtype   \n",
      "---  ------      --------------  -----   \n",
      " 0   total_bill  244 non-null    float64 \n",
      " 1   tip         244 non-null    float64 \n",
      " 2   sex         244 non-null    category\n",
      " 3   smoker      244 non-null    category\n",
      " 4   day         244 non-null    category\n",
      " 5   time        244 non-null    category\n",
      " 6   size        244 non-null    int64   \n",
      "dtypes: category(4), float64(2), int64(1)\n",
      "memory usage: 7.4 KB\n"
     ]
    }
   ],
   "source": [
    "tips.info()"
   ]
  },
  {
   "cell_type": "code",
   "execution_count": 11,
   "id": "901dde5f",
   "metadata": {
    "ExecuteTime": {
     "end_time": "2023-10-23T21:22:48.968017Z",
     "start_time": "2023-10-23T21:22:48.908238Z"
    }
   },
   "outputs": [
    {
     "data": {
      "text/html": [
       "<div>\n",
       "<style scoped>\n",
       "    .dataframe tbody tr th:only-of-type {\n",
       "        vertical-align: middle;\n",
       "    }\n",
       "\n",
       "    .dataframe tbody tr th {\n",
       "        vertical-align: top;\n",
       "    }\n",
       "\n",
       "    .dataframe thead th {\n",
       "        text-align: right;\n",
       "    }\n",
       "</style>\n",
       "<table border=\"1\" class=\"dataframe\">\n",
       "  <thead>\n",
       "    <tr style=\"text-align: right;\">\n",
       "      <th></th>\n",
       "      <th>count</th>\n",
       "      <th>mean</th>\n",
       "      <th>std</th>\n",
       "      <th>min</th>\n",
       "      <th>25%</th>\n",
       "      <th>50%</th>\n",
       "      <th>75%</th>\n",
       "      <th>max</th>\n",
       "    </tr>\n",
       "  </thead>\n",
       "  <tbody>\n",
       "    <tr>\n",
       "      <th>total_bill</th>\n",
       "      <td>244.0</td>\n",
       "      <td>19.785943</td>\n",
       "      <td>8.902412</td>\n",
       "      <td>3.07</td>\n",
       "      <td>13.3475</td>\n",
       "      <td>17.795</td>\n",
       "      <td>24.1275</td>\n",
       "      <td>50.81</td>\n",
       "    </tr>\n",
       "    <tr>\n",
       "      <th>tip</th>\n",
       "      <td>244.0</td>\n",
       "      <td>2.998279</td>\n",
       "      <td>1.383638</td>\n",
       "      <td>1.00</td>\n",
       "      <td>2.0000</td>\n",
       "      <td>2.900</td>\n",
       "      <td>3.5625</td>\n",
       "      <td>10.00</td>\n",
       "    </tr>\n",
       "    <tr>\n",
       "      <th>size</th>\n",
       "      <td>244.0</td>\n",
       "      <td>2.569672</td>\n",
       "      <td>0.951100</td>\n",
       "      <td>1.00</td>\n",
       "      <td>2.0000</td>\n",
       "      <td>2.000</td>\n",
       "      <td>3.0000</td>\n",
       "      <td>6.00</td>\n",
       "    </tr>\n",
       "  </tbody>\n",
       "</table>\n",
       "</div>"
      ],
      "text/plain": [
       "            count       mean       std   min      25%     50%      75%    max\n",
       "total_bill  244.0  19.785943  8.902412  3.07  13.3475  17.795  24.1275  50.81\n",
       "tip         244.0   2.998279  1.383638  1.00   2.0000   2.900   3.5625  10.00\n",
       "size        244.0   2.569672  0.951100  1.00   2.0000   2.000   3.0000   6.00"
      ]
     },
     "execution_count": 11,
     "metadata": {},
     "output_type": "execute_result"
    }
   ],
   "source": [
    "tips.describe().T"
   ]
  },
  {
   "cell_type": "code",
   "execution_count": 12,
   "id": "c26acf9e",
   "metadata": {
    "ExecuteTime": {
     "end_time": "2023-10-23T21:22:49.904522Z",
     "start_time": "2023-10-23T21:22:48.974868Z"
    }
   },
   "outputs": [
    {
     "data": {
      "text/plain": [
       "<Axes: xlabel='day', ylabel='total_bill'>"
      ]
     },
     "execution_count": 12,
     "metadata": {},
     "output_type": "execute_result"
    },
    {
     "data": {
      "image/png": "[encoded data removed]",
      "text/plain": [
       "<Figure size 640x480 with 1 Axes>"
      ]
     },
     "metadata": {},
     "output_type": "display_data"
    }
   ],
   "source": [
    "sns.barplot(x=\"day\", y=\"total_bill\", data=tips, errorbar=('ci', 95))"
   ]
  },
  {
   "cell_type": "code",
   "execution_count": 13,
   "id": "f84e00e2",
   "metadata": {
    "ExecuteTime": {
     "end_time": "2023-10-23T21:22:49.923065Z",
     "start_time": "2023-10-23T21:22:49.909682Z"
    }
   },
   "outputs": [],
   "source": [
    "tipsFri = tips[tips[\"day\"] == \"Fri\"]"
   ]
  },
  {
   "cell_type": "code",
   "execution_count": 14,
   "id": "c79e5320",
   "metadata": {
    "ExecuteTime": {
     "end_time": "2023-10-23T21:22:49.972952Z",
     "start_time": "2023-10-23T21:22:49.924975Z"
    }
   },
   "outputs": [
    {
     "data": {
      "text/html": [
       "<div>\n",
       "<style scoped>\n",
       "    .dataframe tbody tr th:only-of-type {\n",
       "        vertical-align: middle;\n",
       "    }\n",
       "\n",
       "    .dataframe tbody tr th {\n",
       "        vertical-align: top;\n",
       "    }\n",
       "\n",
       "    .dataframe thead th {\n",
       "        text-align: right;\n",
       "    }\n",
       "</style>\n",
       "<table border=\"1\" class=\"dataframe\">\n",
       "  <thead>\n",
       "    <tr style=\"text-align: right;\">\n",
       "      <th></th>\n",
       "      <th>total_bill</th>\n",
       "      <th>tip</th>\n",
       "      <th>sex</th>\n",
       "      <th>smoker</th>\n",
       "      <th>day</th>\n",
       "      <th>time</th>\n",
       "      <th>size</th>\n",
       "    </tr>\n",
       "  </thead>\n",
       "  <tbody>\n",
       "    <tr>\n",
       "      <th>90</th>\n",
       "      <td>28.97</td>\n",
       "      <td>3.00</td>\n",
       "      <td>Male</td>\n",
       "      <td>Yes</td>\n",
       "      <td>Fri</td>\n",
       "      <td>Dinner</td>\n",
       "      <td>2</td>\n",
       "    </tr>\n",
       "    <tr>\n",
       "      <th>91</th>\n",
       "      <td>22.49</td>\n",
       "      <td>3.50</td>\n",
       "      <td>Male</td>\n",
       "      <td>No</td>\n",
       "      <td>Fri</td>\n",
       "      <td>Dinner</td>\n",
       "      <td>2</td>\n",
       "    </tr>\n",
       "    <tr>\n",
       "      <th>92</th>\n",
       "      <td>5.75</td>\n",
       "      <td>1.00</td>\n",
       "      <td>Female</td>\n",
       "      <td>Yes</td>\n",
       "      <td>Fri</td>\n",
       "      <td>Dinner</td>\n",
       "      <td>2</td>\n",
       "    </tr>\n",
       "    <tr>\n",
       "      <th>93</th>\n",
       "      <td>16.32</td>\n",
       "      <td>4.30</td>\n",
       "      <td>Female</td>\n",
       "      <td>Yes</td>\n",
       "      <td>Fri</td>\n",
       "      <td>Dinner</td>\n",
       "      <td>2</td>\n",
       "    </tr>\n",
       "    <tr>\n",
       "      <th>94</th>\n",
       "      <td>22.75</td>\n",
       "      <td>3.25</td>\n",
       "      <td>Female</td>\n",
       "      <td>No</td>\n",
       "      <td>Fri</td>\n",
       "      <td>Dinner</td>\n",
       "      <td>2</td>\n",
       "    </tr>\n",
       "    <tr>\n",
       "      <th>95</th>\n",
       "      <td>40.17</td>\n",
       "      <td>4.73</td>\n",
       "      <td>Male</td>\n",
       "      <td>Yes</td>\n",
       "      <td>Fri</td>\n",
       "      <td>Dinner</td>\n",
       "      <td>4</td>\n",
       "    </tr>\n",
       "    <tr>\n",
       "      <th>96</th>\n",
       "      <td>27.28</td>\n",
       "      <td>4.00</td>\n",
       "      <td>Male</td>\n",
       "      <td>Yes</td>\n",
       "      <td>Fri</td>\n",
       "      <td>Dinner</td>\n",
       "      <td>2</td>\n",
       "    </tr>\n",
       "    <tr>\n",
       "      <th>97</th>\n",
       "      <td>12.03</td>\n",
       "      <td>1.50</td>\n",
       "      <td>Male</td>\n",
       "      <td>Yes</td>\n",
       "      <td>Fri</td>\n",
       "      <td>Dinner</td>\n",
       "      <td>2</td>\n",
       "    </tr>\n",
       "    <tr>\n",
       "      <th>98</th>\n",
       "      <td>21.01</td>\n",
       "      <td>3.00</td>\n",
       "      <td>Male</td>\n",
       "      <td>Yes</td>\n",
       "      <td>Fri</td>\n",
       "      <td>Dinner</td>\n",
       "      <td>2</td>\n",
       "    </tr>\n",
       "    <tr>\n",
       "      <th>99</th>\n",
       "      <td>12.46</td>\n",
       "      <td>1.50</td>\n",
       "      <td>Male</td>\n",
       "      <td>No</td>\n",
       "      <td>Fri</td>\n",
       "      <td>Dinner</td>\n",
       "      <td>2</td>\n",
       "    </tr>\n",
       "    <tr>\n",
       "      <th>100</th>\n",
       "      <td>11.35</td>\n",
       "      <td>2.50</td>\n",
       "      <td>Female</td>\n",
       "      <td>Yes</td>\n",
       "      <td>Fri</td>\n",
       "      <td>Dinner</td>\n",
       "      <td>2</td>\n",
       "    </tr>\n",
       "    <tr>\n",
       "      <th>101</th>\n",
       "      <td>15.38</td>\n",
       "      <td>3.00</td>\n",
       "      <td>Female</td>\n",
       "      <td>Yes</td>\n",
       "      <td>Fri</td>\n",
       "      <td>Dinner</td>\n",
       "      <td>2</td>\n",
       "    </tr>\n",
       "    <tr>\n",
       "      <th>220</th>\n",
       "      <td>12.16</td>\n",
       "      <td>2.20</td>\n",
       "      <td>Male</td>\n",
       "      <td>Yes</td>\n",
       "      <td>Fri</td>\n",
       "      <td>Lunch</td>\n",
       "      <td>2</td>\n",
       "    </tr>\n",
       "    <tr>\n",
       "      <th>221</th>\n",
       "      <td>13.42</td>\n",
       "      <td>3.48</td>\n",
       "      <td>Female</td>\n",
       "      <td>Yes</td>\n",
       "      <td>Fri</td>\n",
       "      <td>Lunch</td>\n",
       "      <td>2</td>\n",
       "    </tr>\n",
       "    <tr>\n",
       "      <th>222</th>\n",
       "      <td>8.58</td>\n",
       "      <td>1.92</td>\n",
       "      <td>Male</td>\n",
       "      <td>Yes</td>\n",
       "      <td>Fri</td>\n",
       "      <td>Lunch</td>\n",
       "      <td>1</td>\n",
       "    </tr>\n",
       "    <tr>\n",
       "      <th>223</th>\n",
       "      <td>15.98</td>\n",
       "      <td>3.00</td>\n",
       "      <td>Female</td>\n",
       "      <td>No</td>\n",
       "      <td>Fri</td>\n",
       "      <td>Lunch</td>\n",
       "      <td>3</td>\n",
       "    </tr>\n",
       "    <tr>\n",
       "      <th>224</th>\n",
       "      <td>13.42</td>\n",
       "      <td>1.58</td>\n",
       "      <td>Male</td>\n",
       "      <td>Yes</td>\n",
       "      <td>Fri</td>\n",
       "      <td>Lunch</td>\n",
       "      <td>2</td>\n",
       "    </tr>\n",
       "    <tr>\n",
       "      <th>225</th>\n",
       "      <td>16.27</td>\n",
       "      <td>2.50</td>\n",
       "      <td>Female</td>\n",
       "      <td>Yes</td>\n",
       "      <td>Fri</td>\n",
       "      <td>Lunch</td>\n",
       "      <td>2</td>\n",
       "    </tr>\n",
       "    <tr>\n",
       "      <th>226</th>\n",
       "      <td>10.09</td>\n",
       "      <td>2.00</td>\n",
       "      <td>Female</td>\n",
       "      <td>Yes</td>\n",
       "      <td>Fri</td>\n",
       "      <td>Lunch</td>\n",
       "      <td>2</td>\n",
       "    </tr>\n",
       "  </tbody>\n",
       "</table>\n",
       "</div>"
      ],
      "text/plain": [
       "     total_bill   tip     sex smoker  day    time  size\n",
       "90        28.97  3.00    Male    Yes  Fri  Dinner     2\n",
       "91        22.49  3.50    Male     No  Fri  Dinner     2\n",
       "92         5.75  1.00  Female    Yes  Fri  Dinner     2\n",
       "93        16.32  4.30  Female    Yes  Fri  Dinner     2\n",
       "94        22.75  3.25  Female     No  Fri  Dinner     2\n",
       "95        40.17  4.73    Male    Yes  Fri  Dinner     4\n",
       "96        27.28  4.00    Male    Yes  Fri  Dinner     2\n",
       "97        12.03  1.50    Male    Yes  Fri  Dinner     2\n",
       "98        21.01  3.00    Male    Yes  Fri  Dinner     2\n",
       "99        12.46  1.50    Male     No  Fri  Dinner     2\n",
       "100       11.35  2.50  Female    Yes  Fri  Dinner     2\n",
       "101       15.38  3.00  Female    Yes  Fri  Dinner     2\n",
       "220       12.16  2.20    Male    Yes  Fri   Lunch     2\n",
       "221       13.42  3.48  Female    Yes  Fri   Lunch     2\n",
       "222        8.58  1.92    Male    Yes  Fri   Lunch     1\n",
       "223       15.98  3.00  Female     No  Fri   Lunch     3\n",
       "224       13.42  1.58    Male    Yes  Fri   Lunch     2\n",
       "225       16.27  2.50  Female    Yes  Fri   Lunch     2\n",
       "226       10.09  2.00  Female    Yes  Fri   Lunch     2"
      ]
     },
     "execution_count": 14,
     "metadata": {},
     "output_type": "execute_result"
    }
   ],
   "source": [
    "tipsFri"
   ]
  },
  {
   "cell_type": "code",
   "execution_count": 15,
   "id": "d96b7a19",
   "metadata": {
    "ExecuteTime": {
     "end_time": "2023-10-23T21:22:50.005614Z",
     "start_time": "2023-10-23T21:22:49.976052Z"
    }
   },
   "outputs": [
    {
     "data": {
      "text/plain": [
       "(19, 7)"
      ]
     },
     "execution_count": 15,
     "metadata": {},
     "output_type": "execute_result"
    }
   ],
   "source": [
    "tipsFri.shape"
   ]
  },
  {
   "cell_type": "code",
   "execution_count": 16,
   "id": "10a6d0fd",
   "metadata": {
    "ExecuteTime": {
     "end_time": "2023-10-23T21:22:50.022728Z",
     "start_time": "2023-10-23T21:22:50.013773Z"
    }
   },
   "outputs": [],
   "source": [
    "xbar = tipsFri.total_bill.mean()"
   ]
  },
  {
   "cell_type": "code",
   "execution_count": 17,
   "id": "e625ad82",
   "metadata": {
    "ExecuteTime": {
     "end_time": "2023-10-23T21:22:50.047227Z",
     "start_time": "2023-10-23T21:22:50.031652Z"
    }
   },
   "outputs": [
    {
     "data": {
      "text/plain": [
       "17.15157894736842"
      ]
     },
     "execution_count": 17,
     "metadata": {},
     "output_type": "execute_result"
    }
   ],
   "source": [
    "xbar"
   ]
  },
  {
   "cell_type": "code",
   "execution_count": 18,
   "id": "c5d6f733",
   "metadata": {
    "ExecuteTime": {
     "end_time": "2023-10-23T21:22:50.066440Z",
     "start_time": "2023-10-23T21:22:50.047746Z"
    }
   },
   "outputs": [
    {
     "data": {
      "text/plain": [
       "19"
      ]
     },
     "execution_count": 18,
     "metadata": {},
     "output_type": "execute_result"
    }
   ],
   "source": [
    "len(tipsFri)"
   ]
  },
  {
   "cell_type": "code",
   "execution_count": 19,
   "id": "b86c24a3",
   "metadata": {
    "ExecuteTime": {
     "end_time": "2023-10-23T21:22:50.087287Z",
     "start_time": "2023-10-23T21:22:50.073858Z"
    }
   },
   "outputs": [],
   "source": [
    "sem = tipsFri.total_bill.sem()"
   ]
  },
  {
   "cell_type": "code",
   "execution_count": 20,
   "id": "bff91a28",
   "metadata": {
    "ExecuteTime": {
     "end_time": "2023-10-23T21:22:50.106085Z",
     "start_time": "2023-10-23T21:22:50.091349Z"
    }
   },
   "outputs": [
    {
     "data": {
      "text/plain": [
       "1.904760773479416"
      ]
     },
     "execution_count": 20,
     "metadata": {},
     "output_type": "execute_result"
    }
   ],
   "source": [
    "sem"
   ]
  },
  {
   "cell_type": "code",
   "execution_count": 21,
   "id": "bfc3ef2a",
   "metadata": {
    "ExecuteTime": {
     "end_time": "2023-10-23T21:22:50.130322Z",
     "start_time": "2023-10-23T21:22:50.107478Z"
    }
   },
   "outputs": [
    {
     "data": {
      "text/plain": [
       "1.904760773479416"
      ]
     },
     "execution_count": 21,
     "metadata": {},
     "output_type": "execute_result"
    }
   ],
   "source": [
    "tipsFri.total_bill.std() / np.sqrt(len(tipsFri))"
   ]
  },
  {
   "cell_type": "markdown",
   "id": "dc1cce94",
   "metadata": {},
   "source": [
    "CONFIDENCE INTERVAL ESTIMATES"
   ]
  },
  {
   "cell_type": "code",
   "execution_count": 22,
   "id": "5dc60473",
   "metadata": {
    "ExecuteTime": {
     "end_time": "2023-10-23T21:22:50.156267Z",
     "start_time": "2023-10-23T21:22:50.131555Z"
    }
   },
   "outputs": [
    {
     "data": {
      "text/plain": [
       "3.7333311160196554"
      ]
     },
     "execution_count": 22,
     "metadata": {},
     "output_type": "execute_result"
    }
   ],
   "source": [
    "moe = 1.96 * sem\n",
    "moe"
   ]
  },
  {
   "cell_type": "code",
   "execution_count": 23,
   "id": "54330cf3",
   "metadata": {
    "ExecuteTime": {
     "end_time": "2023-10-23T21:22:50.180904Z",
     "start_time": "2023-10-23T21:22:50.157373Z"
    }
   },
   "outputs": [],
   "source": [
    "upper = xbar + moe"
   ]
  },
  {
   "cell_type": "code",
   "execution_count": 24,
   "id": "71df1e0c",
   "metadata": {
    "ExecuteTime": {
     "end_time": "2023-10-23T21:22:50.202878Z",
     "start_time": "2023-10-23T21:22:50.182231Z"
    }
   },
   "outputs": [
    {
     "data": {
      "text/plain": [
       "20.884910063388077"
      ]
     },
     "execution_count": 24,
     "metadata": {},
     "output_type": "execute_result"
    }
   ],
   "source": [
    "upper"
   ]
  },
  {
   "cell_type": "code",
   "execution_count": 25,
   "id": "5029ccbf",
   "metadata": {
    "ExecuteTime": {
     "end_time": "2023-10-23T21:22:50.223845Z",
     "start_time": "2023-10-23T21:22:50.207534Z"
    }
   },
   "outputs": [
    {
     "data": {
      "text/plain": [
       "13.418247831348765"
      ]
     },
     "execution_count": 25,
     "metadata": {},
     "output_type": "execute_result"
    }
   ],
   "source": [
    "lower = xbar - moe\n",
    "lower"
   ]
  },
  {
   "cell_type": "code",
   "execution_count": 26,
   "id": "07b96cf5",
   "metadata": {
    "ExecuteTime": {
     "end_time": "2023-10-23T21:22:50.262898Z",
     "start_time": "2023-10-23T21:22:50.230407Z"
    }
   },
   "outputs": [
    {
     "data": {
      "text/plain": [
       "(13.41831643218411, 20.884841462552732)"
      ]
     },
     "execution_count": 26,
     "metadata": {},
     "output_type": "execute_result"
    }
   ],
   "source": [
    "stats.norm.interval(0.95, loc=xbar, scale=sem )"
   ]
  },
  {
   "cell_type": "code",
   "execution_count": 27,
   "id": "f5e4d329",
   "metadata": {
    "ExecuteTime": {
     "end_time": "2023-10-23T21:22:50.283553Z",
     "start_time": "2023-10-23T21:22:50.267743Z"
    }
   },
   "outputs": [
    {
     "data": {
      "text/plain": [
       "(13.41831643218411, 20.884841462552732)"
      ]
     },
     "execution_count": 27,
     "metadata": {},
     "output_type": "execute_result"
    }
   ],
   "source": [
    "stats.norm.interval(0.95, loc=tipsFri.total_bill.mean(), scale=tipsFri.total_bill.sem() )"
   ]
  },
  {
   "cell_type": "markdown",
   "id": "c8f8099b",
   "metadata": {},
   "source": [
    "t-distribution"
   ]
  },
  {
   "cell_type": "code",
   "execution_count": 28,
   "id": "236184d9",
   "metadata": {
    "ExecuteTime": {
     "end_time": "2023-10-23T21:22:50.315045Z",
     "start_time": "2023-10-23T21:22:50.289531Z"
    }
   },
   "outputs": [
    {
     "data": {
      "text/plain": [
       "19"
      ]
     },
     "execution_count": 28,
     "metadata": {},
     "output_type": "execute_result"
    }
   ],
   "source": [
    "len(tipsFri)"
   ]
  },
  {
   "cell_type": "code",
   "execution_count": 29,
   "id": "73373554",
   "metadata": {
    "ExecuteTime": {
     "end_time": "2023-10-23T21:22:50.347294Z",
     "start_time": "2023-10-23T21:22:50.319187Z"
    }
   },
   "outputs": [
    {
     "data": {
      "text/plain": [
       "(13.149825056979097, 21.153332837757745)"
      ]
     },
     "execution_count": 29,
     "metadata": {},
     "output_type": "execute_result"
    }
   ],
   "source": [
    "stats.t.interval(0.95, df=len(tipsFri)-1, loc=tipsFri.total_bill.mean(), scale=tipsFri.total_bill.sem())"
   ]
  },
  {
   "cell_type": "code",
   "execution_count": 30,
   "id": "63c29359",
   "metadata": {
    "ExecuteTime": {
     "end_time": "2023-10-23T21:22:50.995477Z",
     "start_time": "2023-10-23T21:22:50.349243Z"
    }
   },
   "outputs": [
    {
     "data": {
      "text/plain": [
       "<Axes: xlabel='day', ylabel='total_bill'>"
      ]
     },
     "execution_count": 30,
     "metadata": {},
     "output_type": "execute_result"
    },
    {
     "data": {
      "image/png": "[encoded data removed]",
      "text/plain": [
       "<Figure size 640x480 with 1 Axes>"
      ]
     },
     "metadata": {},
     "output_type": "display_data"
    }
   ],
   "source": [
    "sns.barplot(x=\"day\", y=\"total_bill\", data=tips, errorbar=('ci', 95))"
   ]
  },
  {
   "cell_type": "code",
   "execution_count": 31,
   "id": "b7740e9c",
   "metadata": {
    "ExecuteTime": {
     "end_time": "2023-10-23T21:22:51.019870Z",
     "start_time": "2023-10-23T21:22:50.999475Z"
    }
   },
   "outputs": [],
   "source": [
    "tipsSun = tips[tips[\"day\"] == \"Sun\"]"
   ]
  },
  {
   "cell_type": "code",
   "execution_count": 32,
   "id": "427d327c",
   "metadata": {
    "ExecuteTime": {
     "end_time": "2023-10-23T21:22:51.055585Z",
     "start_time": "2023-10-23T21:22:51.024932Z"
    }
   },
   "outputs": [
    {
     "data": {
      "text/html": [
       "<div>\n",
       "<style scoped>\n",
       "    .dataframe tbody tr th:only-of-type {\n",
       "        vertical-align: middle;\n",
       "    }\n",
       "\n",
       "    .dataframe tbody tr th {\n",
       "        vertical-align: top;\n",
       "    }\n",
       "\n",
       "    .dataframe thead th {\n",
       "        text-align: right;\n",
       "    }\n",
       "</style>\n",
       "<table border=\"1\" class=\"dataframe\">\n",
       "  <thead>\n",
       "    <tr style=\"text-align: right;\">\n",
       "      <th></th>\n",
       "      <th>total_bill</th>\n",
       "      <th>tip</th>\n",
       "      <th>sex</th>\n",
       "      <th>smoker</th>\n",
       "      <th>day</th>\n",
       "      <th>time</th>\n",
       "      <th>size</th>\n",
       "    </tr>\n",
       "  </thead>\n",
       "  <tbody>\n",
       "    <tr>\n",
       "      <th>0</th>\n",
       "      <td>16.99</td>\n",
       "      <td>1.01</td>\n",
       "      <td>Female</td>\n",
       "      <td>No</td>\n",
       "      <td>Sun</td>\n",
       "      <td>Dinner</td>\n",
       "      <td>2</td>\n",
       "    </tr>\n",
       "    <tr>\n",
       "      <th>1</th>\n",
       "      <td>10.34</td>\n",
       "      <td>1.66</td>\n",
       "      <td>Male</td>\n",
       "      <td>No</td>\n",
       "      <td>Sun</td>\n",
       "      <td>Dinner</td>\n",
       "      <td>3</td>\n",
       "    </tr>\n",
       "    <tr>\n",
       "      <th>2</th>\n",
       "      <td>21.01</td>\n",
       "      <td>3.50</td>\n",
       "      <td>Male</td>\n",
       "      <td>No</td>\n",
       "      <td>Sun</td>\n",
       "      <td>Dinner</td>\n",
       "      <td>3</td>\n",
       "    </tr>\n",
       "    <tr>\n",
       "      <th>3</th>\n",
       "      <td>23.68</td>\n",
       "      <td>3.31</td>\n",
       "      <td>Male</td>\n",
       "      <td>No</td>\n",
       "      <td>Sun</td>\n",
       "      <td>Dinner</td>\n",
       "      <td>2</td>\n",
       "    </tr>\n",
       "    <tr>\n",
       "      <th>4</th>\n",
       "      <td>24.59</td>\n",
       "      <td>3.61</td>\n",
       "      <td>Female</td>\n",
       "      <td>No</td>\n",
       "      <td>Sun</td>\n",
       "      <td>Dinner</td>\n",
       "      <td>4</td>\n",
       "    </tr>\n",
       "  </tbody>\n",
       "</table>\n",
       "</div>"
      ],
      "text/plain": [
       "   total_bill   tip     sex smoker  day    time  size\n",
       "0       16.99  1.01  Female     No  Sun  Dinner     2\n",
       "1       10.34  1.66    Male     No  Sun  Dinner     3\n",
       "2       21.01  3.50    Male     No  Sun  Dinner     3\n",
       "3       23.68  3.31    Male     No  Sun  Dinner     2\n",
       "4       24.59  3.61  Female     No  Sun  Dinner     4"
      ]
     },
     "execution_count": 32,
     "metadata": {},
     "output_type": "execute_result"
    }
   ],
   "source": [
    "tipsSun.head()"
   ]
  },
  {
   "cell_type": "code",
   "execution_count": 33,
   "id": "22441345",
   "metadata": {
    "ExecuteTime": {
     "end_time": "2023-10-23T21:22:51.088880Z",
     "start_time": "2023-10-23T21:22:51.059420Z"
    }
   },
   "outputs": [
    {
     "data": {
      "text/plain": [
       "<bound method DataFrame.info of      total_bill   tip     sex smoker  day    time  size\n",
       "0         16.99  1.01  Female     No  Sun  Dinner     2\n",
       "1         10.34  1.66    Male     No  Sun  Dinner     3\n",
       "2         21.01  3.50    Male     No  Sun  Dinner     3\n",
       "3         23.68  3.31    Male     No  Sun  Dinner     2\n",
       "4         24.59  3.61  Female     No  Sun  Dinner     4\n",
       "..          ...   ...     ...    ...  ...     ...   ...\n",
       "186       20.90  3.50  Female    Yes  Sun  Dinner     3\n",
       "187       30.46  2.00    Male    Yes  Sun  Dinner     5\n",
       "188       18.15  3.50  Female    Yes  Sun  Dinner     3\n",
       "189       23.10  4.00    Male    Yes  Sun  Dinner     3\n",
       "190       15.69  1.50    Male    Yes  Sun  Dinner     2\n",
       "\n",
       "[76 rows x 7 columns]>"
      ]
     },
     "execution_count": 33,
     "metadata": {},
     "output_type": "execute_result"
    }
   ],
   "source": [
    "tipsSun.info"
   ]
  },
  {
   "cell_type": "code",
   "execution_count": 34,
   "id": "8f49bb53",
   "metadata": {
    "ExecuteTime": {
     "end_time": "2023-10-23T21:22:51.135329Z",
     "start_time": "2023-10-23T21:22:51.111132Z"
    }
   },
   "outputs": [
    {
     "data": {
      "text/plain": [
       "76"
      ]
     },
     "execution_count": 34,
     "metadata": {},
     "output_type": "execute_result"
    }
   ],
   "source": [
    "len(tipsSun)"
   ]
  },
  {
   "cell_type": "code",
   "execution_count": 35,
   "id": "1cbf6a35",
   "metadata": {
    "ExecuteTime": {
     "end_time": "2023-10-23T21:22:51.161024Z",
     "start_time": "2023-10-23T21:22:51.142733Z"
    }
   },
   "outputs": [
    {
     "data": {
      "text/plain": [
       "(19.39177370652103, 23.42822629347897)"
      ]
     },
     "execution_count": 35,
     "metadata": {},
     "output_type": "execute_result"
    }
   ],
   "source": [
    "stats.t.interval(0.95, df=len(tipsSun)-1, loc=tipsSun.total_bill.mean(), scale=tipsSun.total_bill.sem())"
   ]
  },
  {
   "cell_type": "code",
   "execution_count": 36,
   "id": "2ce4aa13",
   "metadata": {
    "ExecuteTime": {
     "end_time": "2023-10-23T21:22:51.187728Z",
     "start_time": "2023-10-23T21:22:51.165200Z"
    }
   },
   "outputs": [
    {
     "data": {
      "text/plain": [
       "(19.424333330977177, 23.395666669022823)"
      ]
     },
     "execution_count": 36,
     "metadata": {},
     "output_type": "execute_result"
    }
   ],
   "source": [
    "stats.norm.interval(0.95, loc=tipsSun.total_bill.mean(), scale=tipsSun.total_bill.sem())"
   ]
  },
  {
   "cell_type": "code",
   "execution_count": 37,
   "id": "340a5b7c",
   "metadata": {
    "ExecuteTime": {
     "end_time": "2023-10-23T21:22:51.211949Z",
     "start_time": "2023-10-23T21:22:51.193049Z"
    }
   },
   "outputs": [
    {
     "data": {
      "text/plain": [
       "21.41"
      ]
     },
     "execution_count": 37,
     "metadata": {},
     "output_type": "execute_result"
    }
   ],
   "source": [
    "xbar = tipsSun.total_bill.mean()\n",
    "xbar"
   ]
  },
  {
   "cell_type": "code",
   "execution_count": 38,
   "id": "f55cf0fa",
   "metadata": {
    "ExecuteTime": {
     "end_time": "2023-10-23T21:22:51.247851Z",
     "start_time": "2023-10-23T21:22:51.218524Z"
    }
   },
   "outputs": [
    {
     "data": {
      "text/plain": [
       "8.832121828869889"
      ]
     },
     "execution_count": 38,
     "metadata": {},
     "output_type": "execute_result"
    }
   ],
   "source": [
    "std = tipsSun.total_bill.std()\n",
    "std"
   ]
  },
  {
   "cell_type": "code",
   "execution_count": 39,
   "id": "dd281c95",
   "metadata": {
    "ExecuteTime": {
     "end_time": "2023-10-23T21:22:51.280632Z",
     "start_time": "2023-10-23T21:22:51.254740Z"
    }
   },
   "outputs": [
    {
     "data": {
      "text/plain": [
       "1.0131138555021968"
      ]
     },
     "execution_count": 39,
     "metadata": {},
     "output_type": "execute_result"
    }
   ],
   "source": [
    "sem = std / np.sqrt(len(tipsSun))\n",
    "sem"
   ]
  },
  {
   "cell_type": "code",
   "execution_count": 40,
   "id": "8df935ab",
   "metadata": {
    "ExecuteTime": {
     "end_time": "2023-10-23T21:22:51.301697Z",
     "start_time": "2023-10-23T21:22:51.285837Z"
    }
   },
   "outputs": [
    {
     "data": {
      "text/plain": [
       "1.9857031567843058"
      ]
     },
     "execution_count": 40,
     "metadata": {},
     "output_type": "execute_result"
    }
   ],
   "source": [
    "moe = 1.96 * sem\n",
    "moe"
   ]
  },
  {
   "cell_type": "code",
   "execution_count": 41,
   "id": "91eaad2d",
   "metadata": {
    "ExecuteTime": {
     "end_time": "2023-10-23T21:22:51.329390Z",
     "start_time": "2023-10-23T21:22:51.306353Z"
    }
   },
   "outputs": [
    {
     "data": {
      "text/plain": [
       "23.395703156784307"
      ]
     },
     "execution_count": 41,
     "metadata": {},
     "output_type": "execute_result"
    }
   ],
   "source": [
    "upper = xbar + moe\n",
    "upper"
   ]
  },
  {
   "cell_type": "code",
   "execution_count": 42,
   "id": "120c9d19",
   "metadata": {
    "ExecuteTime": {
     "end_time": "2023-10-23T21:22:51.355058Z",
     "start_time": "2023-10-23T21:22:51.332272Z"
    }
   },
   "outputs": [
    {
     "data": {
      "text/plain": [
       "19.424296843215693"
      ]
     },
     "execution_count": 42,
     "metadata": {},
     "output_type": "execute_result"
    }
   ],
   "source": [
    "lower = xbar - moe\n",
    "lower"
   ]
  },
  {
   "cell_type": "code",
   "execution_count": null,
   "id": "58bd0545",
   "metadata": {},
   "outputs": [],
   "source": []
  },
  {
   "cell_type": "code",
   "execution_count": null,
   "id": "37f4e1ef",
   "metadata": {},
   "outputs": [],
   "source": []
  },
  {
   "cell_type": "code",
   "execution_count": null,
   "id": "3c1e4393",
   "metadata": {},
   "outputs": [],
   "source": []
  },
  {
   "cell_type": "code",
   "execution_count": null,
   "id": "ae53fffb",
   "metadata": {},
   "outputs": [],
   "source": []
  }
 ],
 "metadata": {
  "hide_input": false,
  "kernelspec": {
   "display_name": "Python 3 (ipykernel)",
   "language": "python",
   "name": "python3"
  },
  "language_info": {
   "codemirror_mode": {
    "name": "ipython",
    "version": 3
   },
   "file_extension": ".py",
   "mimetype": "text/x-python",
   "name": "python",
   "nbconvert_exporter": "python",
   "pygments_lexer": "ipython3",
   "version": "3.10.9"
  },
  "nbTranslate": {
   "displayLangs": [
    "*"
   ],
   "hotkey": "alt-t",
   "langInMainMenu": true,
   "sourceLang": "en",
   "targetLang": "fr",
   "useGoogleTranslate": true
  },
  "toc": {
   "base_numbering": 1,
   "nav_menu": {},
   "number_sections": true,
   "sideBar": true,
   "skip_h1_title": false,
   "title_cell": "Table of Contents",
   "title_sidebar": "Contents",
   "toc_cell": false,
   "toc_position": {},
   "toc_section_display": true,
   "toc_window_display": false
  },
  "varInspector": {
   "cols": {
    "lenName": 16,
    "lenType": 16,
    "lenVar": 40
   },
   "kernels_config": {
    "python": {
     "delete_cmd_postfix": "",
     "delete_cmd_prefix": "del ",
     "library": "var_list.py",
     "varRefreshCmd": "print(var_dic_list())"
    },
    "r": {
     "delete_cmd_postfix": ") ",
     "delete_cmd_prefix": "rm(",
     "library": "var_list.r",
     "varRefreshCmd": "cat(var_dic_list()) "
    }
   },
   "types_to_exclude": [
    "module",
    "function",
    "builtin_function_or_method",
    "instance",
    "_Feature"
   ],
   "window_display": false
  },
  "vp": {
   "vp_config_version": "1.0.0",
   "vp_menu_width": 273,
   "vp_note_display": false,
   "vp_note_width": 0,
   "vp_position": {
    "width": 278
   },
   "vp_section_display": false,
   "vp_signature": "VisualPython"
  }
 },
 "nbformat": 4,
 "nbformat_minor": 5
}
